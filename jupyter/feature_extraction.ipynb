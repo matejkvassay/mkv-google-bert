{
 "cells": [
  {
   "cell_type": "code",
   "execution_count": 1,
   "metadata": {},
   "outputs": [],
   "source": [
    "from mkv.google_bert.feature_extraction import BertFeatureExtractor\n",
    "import tensorflow as tf"
   ]
  },
  {
   "cell_type": "markdown",
   "metadata": {},
   "source": [
    "## Configuration"
   ]
  },
  {
   "cell_type": "code",
   "execution_count": 21,
   "metadata": {},
   "outputs": [],
   "source": [
    "BERT_MODEL_FOLDER='/Users/matejkvassay/data/google_bert/cased_L-12_H-768_A-12/'\n",
    "BERT_CONFIG_FILE=BERT_MODEL_FOLDER+'bert_config.json'\n",
    "INIT_CHECKPOINT=BERT_MODEL_FOLDER+'bert_model.ckpt'\n",
    "VOCAB_FILE=BERT_MODEL_FOLDER+'vocab.txt'\n",
    "LOWER_CASED=False\n",
    "LAYERS=\"-1\"#\"-1,-2,-3,-4 # = last 4 layers\"\n",
    "LOG_LEVEL=tf.logging.ERROR"
   ]
  },
  {
   "cell_type": "markdown",
   "metadata": {},
   "source": [
    "## Init BERT feature extractor"
   ]
  },
  {
   "cell_type": "code",
   "execution_count": 22,
   "metadata": {},
   "outputs": [],
   "source": [
    "from mkv.google_bert.feature_extraction.functions.io import convert_to_input_examples"
   ]
  },
  {
   "cell_type": "code",
   "execution_count": 23,
   "metadata": {},
   "outputs": [],
   "source": [
    "extractor=BertFeatureExtractor(layers=LAYERS, bert_config_file=BERT_CONFIG_FILE, init_checkpoint=INIT_CHECKPOINT, vocab_file=VOCAB_FILE, do_lower_case=LOWER_CASED, log_verbosity=LOG_LEVEL)"
   ]
  },
  {
   "cell_type": "markdown",
   "metadata": {},
   "source": [
    "## Extract features from single sentences"
   ]
  },
  {
   "cell_type": "code",
   "execution_count": 24,
   "metadata": {},
   "outputs": [],
   "source": [
    "DATASET=('This is my second semester.', 'Are you still there?','I\\'m single sentence')"
   ]
  },
  {
   "cell_type": "code",
   "execution_count": 25,
   "metadata": {},
   "outputs": [],
   "source": [
    "result = list(extractor.extract_features(DATASET, exclude_tags=True))"
   ]
  },
  {
   "cell_type": "code",
   "execution_count": 31,
   "metadata": {},
   "outputs": [
    {
     "data": {
      "text/plain": [
       "(768,)"
      ]
     },
     "execution_count": 31,
     "metadata": {},
     "output_type": "execute_result"
    }
   ],
   "source": [
    "result[0]['vectors'][0].shape"
   ]
  }
 ],
 "metadata": {
  "kernelspec": {
   "display_name": "Python 3",
   "language": "python",
   "name": "python3"
  },
  "language_info": {
   "codemirror_mode": {
    "name": "ipython",
    "version": 3
   },
   "file_extension": ".py",
   "mimetype": "text/x-python",
   "name": "python",
   "nbconvert_exporter": "python",
   "pygments_lexer": "ipython3",
   "version": "3.6.5"
  }
 },
 "nbformat": 4,
 "nbformat_minor": 2
}
